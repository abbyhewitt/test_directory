{
 "cells": [
  {
   "cell_type": "markdown",
   "metadata": {},
   "source": [
    "<img src=\"http://imgur.com/1ZcRyrc.png\" style=\"float: left; margin: 20px; height: 55px\">\n",
    "\n",
    "# Project 1: Python Coding Exercises\n",
    "\n",
    "---"
   ]
  },
  {
   "cell_type": "markdown",
   "metadata": {},
   "source": [
    "The following code challenges are drawn from common exercises used in technical interviews.\n",
    "\n",
    "Please note that there may be several ways to approach each challenge. If you get stuck, try mapping out your approach in pseudocode first. Finally, while solutions to problems like these may be found online, remember that if you copy/paste code that you can't explain, you'll be missing out on the point of the project. The only way to truly learn a new skill is through practice, trial, and error - we can only help you improve by understanding where you are having trouble."
   ]
  },
  {
   "cell_type": "markdown",
   "metadata": {},
   "source": [
    "### Challenge 1: Largest Palindrome\n",
    "A palindromic number reads the same both ways. For example, 1234321 is a palindrome. The largest palindrome made from the product of two two-digit numbers is 9009 = 91 × 99. Find the largest palindrome made from the product of two three-digit numbers. Afterward, write a brief explanation walking through your code's logic in markdown."
   ]
  },
  {
   "cell_type": "code",
   "execution_count": 1,
   "metadata": {},
   "outputs": [
    {
     "name": "stdout",
     "output_type": "stream",
     "text": [
      "Starting\n",
      "995 583\n",
      "993 913\n",
      "906609\n",
      "Done\n"
     ]
    }
   ],
   "source": [
    "max_pal = -1 ##1. set an initial value for max palindrome to check against\n",
    "for i in range(1000,100,-1): ##2. cycle through all combinations of integer i between 999 and 100, starting at the largest value\n",
    "    for j in range(1000,100,-1): ##3. cycle through all combinations of integer j between 999 and 100, starting at the largest \n",
    "        palindrome = i*j       ##4. the nested for loops will cycle through each combination of i multiplied by j, first cycling through all possible values of j in the range before decreasing i by 1\n",
    "        palindrome_str= list(str(palindrome)) ##5. in order to reverse the value, it needs to be a list; here we convert the integer to a string, and then a list \n",
    "        palindrome_rev = list(reversed(palindrome_str)) ## 6. reverse the list object\n",
    "        if palindrome_str == palindrome_rev and palindrome > max_pal: ##7. check if the list is the same both ways and if the integer is greater than the existing max palindrome value\n",
    "            max_pal = palindrome ##8. if the conditions above are met, then the palindrome as stored as the max value\n",
    "            break ##9. this breaks the inner loop of cycling through the j range. Once this breaks, we jump back to counting down the outer loop of cycling through i values. Any palindromes larger than the previous will be stored over the previous value.\n",
    "\n",
    "print(max_pal) #print the max palindrome after cycling through both for loops\n",
    "\n",
    "\n",
    "\n",
    "        \n",
    "        \n",
    "        \n"
   ]
  },
  {
   "cell_type": "markdown",
   "metadata": {},
   "source": [
    "\n",
    "### Challenge 2: Summation of Primes\n",
    "The sum of the primes below 10 is 2 + 3 + 5 + 7 = 17. Find the sum of all the primes below 2,000. Afterward, write a brief explanation walking through your code's logic in markdown."
   ]
  },
  {
   "cell_type": "code",
   "execution_count": 61,
   "metadata": {},
   "outputs": [
    {
     "name": "stdout",
     "output_type": "stream",
     "text": [
      "458860\n"
     ]
    }
   ],
   "source": [
    "## if a number is prime, it won't be able to be divided by 2,3,4,5,6,7,8,9 with a remainder of 0 \n",
    "primes = 0\n",
    "\n",
    "for i in range(2, 2000): #cycle through all values from 2 to 2000\n",
    "    is_prime = True  #default is_prime to True for us to check\n",
    "    for j in range(2,10): # cycle throguh all values from 2 to 9 to check if the i value is divisible by any number\n",
    "        if i == j: #skip values where the integers are equal since this is not the definition of a prime\n",
    "            break # if values are equal, then break from the current inner loop\n",
    "        result = i % j #check if i is divisible by j\n",
    "        if result == 0: #if result equals zero, then\n",
    "            is_prime = False #change is prime to False and\n",
    "            break #break from the loop to start back at the next i value.\n",
    "    if is_prime: #if result is not equal to zero, is_prime remains True and\n",
    "        primes += i #we add the i value to our prime list before starting back over at the next i value\n",
    "        \n",
    "print(primes)"
   ]
  },
  {
   "cell_type": "markdown",
   "metadata": {},
   "source": [
    "### Challenge 3: Multiples of 3 and 5\n",
    "If we list all of the natural numbers below 10 that are multiples of 3 or 5, we get 3, 5, 6, and 9. The sum of these multiples is 23. Find the sum of all the multiples of 3 and 5 below 1,000. Afterward, write a brief explanation walking through your code's logic in markdown."
   ]
  },
  {
   "cell_type": "code",
   "execution_count": 84,
   "metadata": {},
   "outputs": [
    {
     "name": "stdout",
     "output_type": "stream",
     "text": [
      "233168\n"
     ]
    }
   ],
   "source": [
    "multiples = 0 #define a variable to calculate the sum of the multiples and start the sum off at zero\n",
    "\n",
    "for i in range(1,1000): #cycle through all values below 1000 (1 through 999)\n",
    "    if i % 3 == 0 or i % 5 == 0: #check if the number is divisible by 3 or 5\n",
    "        multiples += i #if it is divisible, then add the value onto the multiples variable\n",
    "        \n",
    "print(multiples) #print the multiple variables after all values divisible by 3 or 5 below 1000 are added in the above for loop"
   ]
  },
  {
   "cell_type": "markdown",
   "metadata": {},
   "source": [
    "### Challenge 4: String Compressor\n",
    "Implement a method to perform basic string compression using the counts of repeated characters. (This is called run-length encoding.) For example, the string \"aabcccccaaa\" would become a2b1c5a3. If the “compressed” string would not become smaller than the original string, your method should return the original string. You can assume the string has only uppercase and lowercase letters (a–z). Specify whether your solution is case sensitive or case insensitive and what you would need to change to make it the other. Afterward, write a brief explanation walking through your code's logic in markdown."
   ]
  },
  {
   "cell_type": "code",
   "execution_count": 44,
   "metadata": {},
   "outputs": [
    {
     "data": {
      "text/plain": [
       "'a2b1c5a3'"
      ]
     },
     "execution_count": 44,
     "metadata": {},
     "output_type": "execute_result"
    }
   ],
   "source": [
    "def string_compress(string1):\n",
    "    str_list = list(string1.lower()) #turn the string into a list so we can treat each letter separately\n",
    "    new_string = \"\" #create our compressed string variable - it starts empty so we can add to it\n",
    "    prev_char = None #create a variable to store the previous character - to start, it is none.\n",
    "    count = 1 #create a count variable to count the number of letters that are the same\n",
    "    for i in str_list: #cycle through every letter in the string\n",
    "        if i == prev_char: #if the letter in the string is the same as the previous character, then...\n",
    "            count += 1 #add 1 to the count variable\n",
    "        elif prev_char is not None:  #if previous condition is not met, then check if previous character \n",
    "            #is not none. If it isn't none, then...\n",
    "            new_string += '{0}{1}'.format(prev_char, count) #add the previous character and count to the new string\n",
    "            count = 1 #and reset the counter to 1\n",
    "        prev_char = i #store the previous character for comparing to the new character\n",
    "    new_string += '{0}{1}'.format(prev_char, count) #once the for loop runs through, add the final previous character \n",
    "    #and count to the string\n",
    "    return new_string #return the new string variable\n",
    "        \n",
    "\n",
    "string_compress(\"aAbcccccaaa\")\n",
    "\n",
    "#currently case insensitive. To make it case sensitive, remove the .lower() function \n",
    "## from the variable at the beginning of the function    "
   ]
  },
  {
   "cell_type": "markdown",
   "metadata": {},
   "source": [
    "### *BONUS* Challenge: FizzBuzz\n",
    "Write a program that prints all of the numbers from 1 to 100. For multiples of 3, instead of the number, print \"Fizz;\" for multiples of 5, print \"Buzz.\" For numbers that are multiples of both 3 and 5, print \"FizzBuzz.\" Afterward, write a brief explanation walking through your code's logic in markdown."
   ]
  },
  {
   "cell_type": "code",
   "execution_count": 79,
   "metadata": {},
   "outputs": [
    {
     "name": "stdout",
     "output_type": "stream",
     "text": [
      "[1, 2, 'Fizz', 4, 'Buzz', 'Fizz', 7, 8, 'Fizz', 'Buzz', 11, 'Fizz', 13, 14, 'FizzBuzz', 16, 17, 'Fizz', 19, 'Buzz', 'Fizz', 22, 23, 'Fizz', 'Buzz', 26, 'Fizz', 28, 29, 'FizzBuzz', 31, 32, 'Fizz', 34, 'Buzz', 'Fizz', 37, 38, 'Fizz', 'Buzz', 41, 'Fizz', 43, 44, 'FizzBuzz', 46, 47, 'Fizz', 49, 'Buzz', 'Fizz', 52, 53, 'Fizz', 'Buzz', 56, 'Fizz', 58, 59, 'FizzBuzz', 61, 62, 'Fizz', 64, 'Buzz', 'Fizz', 67, 68, 'Fizz', 'Buzz', 71, 'Fizz', 73, 74, 'FizzBuzz', 76, 77, 'Fizz', 79, 'Buzz', 'Fizz', 82, 83, 'Fizz', 'Buzz', 86, 'Fizz', 88, 89, 'FizzBuzz', 91, 92, 'Fizz', 94, 'Buzz', 'Fizz', 97, 98, 'Fizz', 'Buzz']\n"
     ]
    }
   ],
   "source": [
    "number_list = []\n",
    "\n",
    "for i in range(1,101):  #run through numbers 1 through 100\n",
    "    if i % 15 == 0:  #check if number is divisible by 15 since that is first multiple of 3 and 5\n",
    "        number_list.append('FizzBuzz')  #if it is, add 'FizzBuzz' to list\n",
    "    elif i % 3 == 0: #if not, check if divisible by 3\n",
    "        number_list.append('Fizz') #if it is, add 'Fizz' to list\n",
    "    elif i % 5 == 0:  #if not, check if divisible by 5\n",
    "        number_list.append('Buzz') #if it is, add 'Buzz' to list\n",
    "    else:  #otherwise, proceed to add regular number to the list\n",
    "        number_list.append(i)\n",
    "\n",
    "print(number_list)\n",
    "        "
   ]
  },
  {
   "cell_type": "code",
   "execution_count": 30,
   "metadata": {},
   "outputs": [
    {
     "name": "stdout",
     "output_type": "stream",
     "text": [
      "Four!\n"
     ]
    }
   ],
   "source": []
  }
 ],
 "metadata": {
  "anaconda-cloud": {},
  "kernelspec": {
   "display_name": "Python 3",
   "language": "python",
   "name": "python3"
  },
  "language_info": {
   "codemirror_mode": {
    "name": "ipython",
    "version": 3
   },
   "file_extension": ".py",
   "mimetype": "text/x-python",
   "name": "python",
   "nbconvert_exporter": "python",
   "pygments_lexer": "ipython3",
   "version": "3.6.5"
  }
 },
 "nbformat": 4,
 "nbformat_minor": 2
}
